{
  "cells": [
    {
      "cell_type": "code",
      "source": [
        "import pandas as pd\n",
        "import matplotlib.pyplot as plt"
      ],
      "metadata": {
        "id": "RwrT8cm2bvLg"
      },
      "execution_count": 2,
      "outputs": []
    },
    {
      "cell_type": "code",
      "source": [
        "df = pd.read_excel('Output_BBC.xlsx')\n",
        "df.head()"
      ],
      "metadata": {
        "colab": {
          "base_uri": "https://localhost:8080/",
          "height": 206
        },
        "id": "BnUZ59FucBqh",
        "outputId": "71291f36-3802-4be1-a569-97160b7ed4d2"
      },
      "execution_count": 4,
      "outputs": [
        {
          "output_type": "execute_result",
          "data": {
            "text/plain": [
              "                                                Link  \\\n",
              "0  https://www.bbc.com/news/uk-england-hereford-w...   \n",
              "1     https://www.bbc.com/news/world-europe-63573387   \n",
              "2       https://www.bbc.com/news/technology-62739436   \n",
              "3  https://www.bbc.com/news/uk-england-leicesters...   \n",
              "4         https://www.bbc.com/news/business-63539652   \n",
              "\n",
              "                                               Title  \\\n",
              "0  Pupils' data spread online in Hereford school ...   \n",
              "1  Kherson: Russia to withdraw troops from key Uk...   \n",
              "2  'We talk to plants - they tell us how happy th...   \n",
              "3  'When I couldn't fix George, I climbed a mount...   \n",
              "4  Furniture firm Made collapse: Customers in the...   \n",
              "\n",
              "                                         Description  \n",
              "0  Pupils' data spread online in Hereford school ...  \n",
              "1  Kherson: Russia to withdraw troops from key Uk...  \n",
              "2  Vertical farming - growing plants indoors, on ...  \n",
              "3  A father climbed Mount Kilimanjaro while weari...  \n",
              "4  Furniture firm Made collapse: Customers in the...  "
            ],
            "text/html": [
              "\n",
              "  <div id=\"df-ea368a10-5404-4414-b588-f0d9241844dd\">\n",
              "    <div class=\"colab-df-container\">\n",
              "      <div>\n",
              "<style scoped>\n",
              "    .dataframe tbody tr th:only-of-type {\n",
              "        vertical-align: middle;\n",
              "    }\n",
              "\n",
              "    .dataframe tbody tr th {\n",
              "        vertical-align: top;\n",
              "    }\n",
              "\n",
              "    .dataframe thead th {\n",
              "        text-align: right;\n",
              "    }\n",
              "</style>\n",
              "<table border=\"1\" class=\"dataframe\">\n",
              "  <thead>\n",
              "    <tr style=\"text-align: right;\">\n",
              "      <th></th>\n",
              "      <th>Link</th>\n",
              "      <th>Title</th>\n",
              "      <th>Description</th>\n",
              "    </tr>\n",
              "  </thead>\n",
              "  <tbody>\n",
              "    <tr>\n",
              "      <th>0</th>\n",
              "      <td>https://www.bbc.com/news/uk-england-hereford-w...</td>\n",
              "      <td>Pupils' data spread online in Hereford school ...</td>\n",
              "      <td>Pupils' data spread online in Hereford school ...</td>\n",
              "    </tr>\n",
              "    <tr>\n",
              "      <th>1</th>\n",
              "      <td>https://www.bbc.com/news/world-europe-63573387</td>\n",
              "      <td>Kherson: Russia to withdraw troops from key Uk...</td>\n",
              "      <td>Kherson: Russia to withdraw troops from key Uk...</td>\n",
              "    </tr>\n",
              "    <tr>\n",
              "      <th>2</th>\n",
              "      <td>https://www.bbc.com/news/technology-62739436</td>\n",
              "      <td>'We talk to plants - they tell us how happy th...</td>\n",
              "      <td>Vertical farming - growing plants indoors, on ...</td>\n",
              "    </tr>\n",
              "    <tr>\n",
              "      <th>3</th>\n",
              "      <td>https://www.bbc.com/news/uk-england-leicesters...</td>\n",
              "      <td>'When I couldn't fix George, I climbed a mount...</td>\n",
              "      <td>A father climbed Mount Kilimanjaro while weari...</td>\n",
              "    </tr>\n",
              "    <tr>\n",
              "      <th>4</th>\n",
              "      <td>https://www.bbc.com/news/business-63539652</td>\n",
              "      <td>Furniture firm Made collapse: Customers in the...</td>\n",
              "      <td>Furniture firm Made collapse: Customers in the...</td>\n",
              "    </tr>\n",
              "  </tbody>\n",
              "</table>\n",
              "</div>\n",
              "      <button class=\"colab-df-convert\" onclick=\"convertToInteractive('df-ea368a10-5404-4414-b588-f0d9241844dd')\"\n",
              "              title=\"Convert this dataframe to an interactive table.\"\n",
              "              style=\"display:none;\">\n",
              "        \n",
              "  <svg xmlns=\"http://www.w3.org/2000/svg\" height=\"24px\"viewBox=\"0 0 24 24\"\n",
              "       width=\"24px\">\n",
              "    <path d=\"M0 0h24v24H0V0z\" fill=\"none\"/>\n",
              "    <path d=\"M18.56 5.44l.94 2.06.94-2.06 2.06-.94-2.06-.94-.94-2.06-.94 2.06-2.06.94zm-11 1L8.5 8.5l.94-2.06 2.06-.94-2.06-.94L8.5 2.5l-.94 2.06-2.06.94zm10 10l.94 2.06.94-2.06 2.06-.94-2.06-.94-.94-2.06-.94 2.06-2.06.94z\"/><path d=\"M17.41 7.96l-1.37-1.37c-.4-.4-.92-.59-1.43-.59-.52 0-1.04.2-1.43.59L10.3 9.45l-7.72 7.72c-.78.78-.78 2.05 0 2.83L4 21.41c.39.39.9.59 1.41.59.51 0 1.02-.2 1.41-.59l7.78-7.78 2.81-2.81c.8-.78.8-2.07 0-2.86zM5.41 20L4 18.59l7.72-7.72 1.47 1.35L5.41 20z\"/>\n",
              "  </svg>\n",
              "      </button>\n",
              "      \n",
              "  <style>\n",
              "    .colab-df-container {\n",
              "      display:flex;\n",
              "      flex-wrap:wrap;\n",
              "      gap: 12px;\n",
              "    }\n",
              "\n",
              "    .colab-df-convert {\n",
              "      background-color: #E8F0FE;\n",
              "      border: none;\n",
              "      border-radius: 50%;\n",
              "      cursor: pointer;\n",
              "      display: none;\n",
              "      fill: #1967D2;\n",
              "      height: 32px;\n",
              "      padding: 0 0 0 0;\n",
              "      width: 32px;\n",
              "    }\n",
              "\n",
              "    .colab-df-convert:hover {\n",
              "      background-color: #E2EBFA;\n",
              "      box-shadow: 0px 1px 2px rgba(60, 64, 67, 0.3), 0px 1px 3px 1px rgba(60, 64, 67, 0.15);\n",
              "      fill: #174EA6;\n",
              "    }\n",
              "\n",
              "    [theme=dark] .colab-df-convert {\n",
              "      background-color: #3B4455;\n",
              "      fill: #D2E3FC;\n",
              "    }\n",
              "\n",
              "    [theme=dark] .colab-df-convert:hover {\n",
              "      background-color: #434B5C;\n",
              "      box-shadow: 0px 1px 3px 1px rgba(0, 0, 0, 0.15);\n",
              "      filter: drop-shadow(0px 1px 2px rgba(0, 0, 0, 0.3));\n",
              "      fill: #FFFFFF;\n",
              "    }\n",
              "  </style>\n",
              "\n",
              "      <script>\n",
              "        const buttonEl =\n",
              "          document.querySelector('#df-ea368a10-5404-4414-b588-f0d9241844dd button.colab-df-convert');\n",
              "        buttonEl.style.display =\n",
              "          google.colab.kernel.accessAllowed ? 'block' : 'none';\n",
              "\n",
              "        async function convertToInteractive(key) {\n",
              "          const element = document.querySelector('#df-ea368a10-5404-4414-b588-f0d9241844dd');\n",
              "          const dataTable =\n",
              "            await google.colab.kernel.invokeFunction('convertToInteractive',\n",
              "                                                     [key], {});\n",
              "          if (!dataTable) return;\n",
              "\n",
              "          const docLinkHtml = 'Like what you see? Visit the ' +\n",
              "            '<a target=\"_blank\" href=https://colab.research.google.com/notebooks/data_table.ipynb>data table notebook</a>'\n",
              "            + ' to learn more about interactive tables.';\n",
              "          element.innerHTML = '';\n",
              "          dataTable['output_type'] = 'display_data';\n",
              "          await google.colab.output.renderOutput(dataTable, element);\n",
              "          const docLink = document.createElement('div');\n",
              "          docLink.innerHTML = docLinkHtml;\n",
              "          element.appendChild(docLink);\n",
              "        }\n",
              "      </script>\n",
              "    </div>\n",
              "  </div>\n",
              "  "
            ]
          },
          "metadata": {},
          "execution_count": 4
        }
      ]
    },
    {
      "cell_type": "code",
      "source": [
        "df.shape"
      ],
      "metadata": {
        "colab": {
          "base_uri": "https://localhost:8080/"
        },
        "id": "cKaKVUqFcK9u",
        "outputId": "26faa7c0-388c-417a-a167-f1f51a7c0f72"
      },
      "execution_count": 5,
      "outputs": [
        {
          "output_type": "execute_result",
          "data": {
            "text/plain": [
              "(1068, 3)"
            ]
          },
          "metadata": {},
          "execution_count": 5
        }
      ]
    },
    {
      "cell_type": "code",
      "source": [
        "df['Description'][0]"
      ],
      "metadata": {
        "colab": {
          "base_uri": "https://localhost:8080/",
          "height": 227
        },
        "id": "4W2qvxjg5tpj",
        "outputId": "2696890a-900b-4b7a-ebb9-0609fe5ce292"
      },
      "execution_count": 24,
      "outputs": [
        {
          "output_type": "execute_result",
          "data": {
            "text/plain": [
              "'Pupils\\' data spread online in Hereford school cyber attack\\nPublished\\n15 hours ago\\nShare\\nIMAGE SOURCE,\\nGETTY IMAGES\\nImage caption,\\nBishop of Hereford\\'s Bluecoat School said it was working with police\\nA cyber attack at a secondary school led to pupils\\' information being published online.\\nWest Mercia Police has launched an investigation into the breach on 9 October at Bishop of Hereford\\'s Bluecoat School, in Hampton Dene Road.\\nThe school said it was taking the attack \"extremely seriously\" and was assisting the force with its inquiries.\\n\"We have been open with our school community,\" it told BBC Hereford and Worcester.\\nIMAGE SOURCE,\\nGOOGLE\\nImage caption,\\nThe school has said it is assisting police with their investigation into the breach\\nSupt Ed Williams said: \"We\\'re working with the school to establish the information that has been published to ensure any necessary safeguarding measures are put in place and any future risk is managed.\"\\nIn a statement, the school said: \"We are unable to make any further comment whilst the police investigate the organisation responsible for the cyberattack and breaching data from the school.\\n\"The cyber police are in the process of investigating and taking the cyber-attack extremely seriously.\\n\"We have been open with our school community and are continuing to assist the police in the ongoing investigation.\"\\nFollow BBC West Midlands on Facebook, Twitter and Instagram. Send your story ideas to: newsonline.westmidlands@bbc.co.uk\\nRelated Internet Links\\nWest Mercia Police\\nThe Bishop of Hereford\\'s Bluecoat School\\nThe BBC is not responsible for the content of external sites.\\nRelated Topics\\nHereford\\nCyber-security'"
            ],
            "application/vnd.google.colaboratory.intrinsic+json": {
              "type": "string"
            }
          },
          "metadata": {},
          "execution_count": 24
        }
      ]
    },
    {
      "cell_type": "code",
      "source": [
        "articles = df['Description'][0]\n",
        "articles = articles.replace('\\n', ' ')\n",
        "articles = articles.replace(\"\\\\'\", ' ')"
      ],
      "metadata": {
        "id": "-Tf_Mt2AcNWp"
      },
      "execution_count": 19,
      "outputs": []
    },
    {
      "cell_type": "code",
      "source": [
        "article = articles.split(\"'\")\n",
        "article = ''.join(article)\n",
        "article"
      ],
      "metadata": {
        "colab": {
          "base_uri": "https://localhost:8080/",
          "height": 227
        },
        "id": "8BLX3cldsHUg",
        "outputId": "b093151b-fc91-4614-af91-aed28659ef62"
      },
      "execution_count": 22,
      "outputs": [
        {
          "output_type": "execute_result",
          "data": {
            "text/plain": [
              "'Pupils data spread online in Hereford school cyber attack Published 15 hours ago Share IMAGE SOURCE, GETTY IMAGES Image caption, Bishop of Herefords Bluecoat School said it was working with police A cyber attack at a secondary school led to pupils information being published online. West Mercia Police has launched an investigation into the breach on 9 October at Bishop of Herefords Bluecoat School, in Hampton Dene Road. The school said it was taking the attack \"extremely seriously\" and was assisting the force with its inquiries. \"We have been open with our school community,\" it told BBC Hereford and Worcester. IMAGE SOURCE, GOOGLE Image caption, The school has said it is assisting police with their investigation into the breach Supt Ed Williams said: \"Were working with the school to establish the information that has been published to ensure any necessary safeguarding measures are put in place and any future risk is managed.\" In a statement, the school said: \"We are unable to make any further comment whilst the police investigate the organisation responsible for the cyberattack and breaching data from the school. \"The cyber police are in the process of investigating and taking the cyber-attack extremely seriously. \"We have been open with our school community and are continuing to assist the police in the ongoing investigation.\" Follow BBC West Midlands on Facebook, Twitter and Instagram. Send your story ideas to: newsonline.westmidlands@bbc.co.uk Related Internet Links West Mercia Police The Bishop of Herefords Bluecoat School The BBC is not responsible for the content of external sites. Related Topics Hereford Cyber-security'"
            ],
            "application/vnd.google.colaboratory.intrinsic+json": {
              "type": "string"
            }
          },
          "metadata": {},
          "execution_count": 22
        }
      ]
    },
    {
      "cell_type": "code",
      "source": [
        "import spacy\n",
        "from spacy import displacy\n",
        "from collections import Counter\n",
        "import en_core_web_sm\n",
        "nlp = en_core_web_sm.load()"
      ],
      "metadata": {
        "id": "gRtX7W-0fpGI"
      },
      "execution_count": 9,
      "outputs": []
    },
    {
      "cell_type": "code",
      "source": [
        "doc = nlp(article)\n",
        "print([(X.text, X.label_) for X in doc.ents])"
      ],
      "metadata": {
        "colab": {
          "base_uri": "https://localhost:8080/"
        },
        "id": "peEzt9_vp1F7",
        "outputId": "8b8f25cc-faa3-4067-809d-9d4d988048ed"
      },
      "execution_count": 23,
      "outputs": [
        {
          "output_type": "stream",
          "name": "stdout",
          "text": [
            "[('Hereford', 'GPE'), ('Published 15 hours ago', 'TIME'), ('Share IMAGE SOURCE', 'PERSON'), ('GETTY IMAGES Image', 'ORG'), ('Bishop of Herefords Bluecoat School', 'ORG'), ('West Mercia Police', 'PERSON'), ('9 October', 'DATE'), ('Bishop of Herefords Bluecoat School', 'ORG'), ('Hampton Dene Road', 'LOC'), ('BBC Hereford', 'ORG'), ('Worcester', 'PERSON'), ('IMAGE SOURCE', 'PERSON'), ('GOOGLE', 'ORG'), ('Ed Williams', 'PERSON'), ('BBC', 'ORG'), ('Facebook', 'PERSON'), ('Twitter', 'PRODUCT'), ('Instagram', 'ORG'), ('Herefords Bluecoat School', 'ORG'), ('BBC', 'ORG')]\n"
          ]
        }
      ]
    },
    {
      "cell_type": "code",
      "source": [],
      "metadata": {
        "id": "pnbRIQDsq6tV"
      },
      "execution_count": null,
      "outputs": []
    },
    {
      "cell_type": "markdown",
      "source": [
        "### Where it happened?"
      ],
      "metadata": {
        "id": "JyWXXMCc92qP"
      }
    },
    {
      "cell_type": "code",
      "source": [
        "for X in doc.ents:\n",
        "  if X.label_ == 'TIME' or X.label_ == 'DATE':\n",
        "    print(X.text)"
      ],
      "metadata": {
        "colab": {
          "base_uri": "https://localhost:8080/"
        },
        "id": "l9niK5kC9nnH",
        "outputId": "a8dc7895-20a1-4833-ed2c-09344757bdca"
      },
      "execution_count": 27,
      "outputs": [
        {
          "output_type": "stream",
          "name": "stdout",
          "text": [
            "Published 15 hours ago\n",
            "9 October\n"
          ]
        }
      ]
    },
    {
      "cell_type": "markdown",
      "source": [
        "### who is the subject and object of this article?"
      ],
      "metadata": {
        "id": "yy_fFsJr-eg8"
      }
    },
    {
      "cell_type": "code",
      "source": [
        "for X in doc.ents:\n",
        "  if X.label_ == 'PERSON':\n",
        "    print(X.text)"
      ],
      "metadata": {
        "colab": {
          "base_uri": "https://localhost:8080/"
        },
        "id": "MZXTK4lg-PgT",
        "outputId": "df2e3686-da64-474a-e41d-a8fd1f72e70e"
      },
      "execution_count": 28,
      "outputs": [
        {
          "output_type": "stream",
          "name": "stdout",
          "text": [
            "Share IMAGE SOURCE\n",
            "West Mercia Police\n",
            "Worcester\n",
            "IMAGE SOURCE\n",
            "Ed Williams\n",
            "Facebook\n"
          ]
        }
      ]
    },
    {
      "cell_type": "markdown",
      "source": [
        "### what happened exactly?"
      ],
      "metadata": {
        "id": "mns1oLPV-1xl"
      }
    },
    {
      "cell_type": "code",
      "source": [
        "from gensim.summarization import summarize\n",
        "summarize(df['Description'][0])"
      ],
      "metadata": {
        "colab": {
          "base_uri": "https://localhost:8080/",
          "height": 88
        },
        "id": "LtpKwNxp-pQa",
        "outputId": "40e78c93-b53d-41fa-e760-e8d3861d56c8"
      },
      "execution_count": 37,
      "outputs": [
        {
          "output_type": "execute_result",
          "data": {
            "text/plain": [
              "\"Pupils' data spread online in Hereford school cyber attack\\nBishop of Hereford's Bluecoat School said it was working with police\\nA cyber attack at a secondary school led to pupils' information being published online.\\nWest Mercia Police has launched an investigation into the breach on 9 October at Bishop of Hereford's Bluecoat School, in Hampton Dene Road.\\nThe school has said it is assisting police with their investigation into the breach\""
            ],
            "application/vnd.google.colaboratory.intrinsic+json": {
              "type": "string"
            }
          },
          "metadata": {},
          "execution_count": 37
        }
      ]
    },
    {
      "cell_type": "code",
      "source": [],
      "metadata": {
        "id": "k_da6MvV_xPS"
      },
      "execution_count": null,
      "outputs": []
    },
    {
      "cell_type": "code",
      "source": [
        "sentences = [x for x in doc.sents]\n",
        "print(sentences)"
      ],
      "metadata": {
        "colab": {
          "base_uri": "https://localhost:8080/"
        },
        "id": "JSCwf-ARD-fQ",
        "outputId": "172fea92-3158-4aae-b85f-432c8b7b5bd3"
      },
      "execution_count": 40,
      "outputs": [
        {
          "output_type": "stream",
          "name": "stdout",
          "text": [
            "[Pupils data spread online in Hereford school cyber attack Published 15 hours ago Share IMAGE SOURCE, GETTY IMAGES Image caption, Bishop of Herefords Bluecoat School said it was working with police A cyber attack at a secondary school led to pupils information being published online., West Mercia Police has launched an investigation into the breach on 9 October at Bishop of Herefords Bluecoat School, in Hampton Dene Road., The school said it was taking the attack \"extremely seriously\" and was assisting the force with its inquiries., \"We have been open with our school community,\" it told BBC Hereford and Worcester., IMAGE SOURCE, GOOGLE Image caption, The school has said it is assisting police with their investigation into the breach Supt Ed Williams said: \"Were working with the school to establish the information that has been published to ensure any necessary safeguarding measures are put in place and any future risk is managed.\", In a statement, the school said: \"We are unable to make any further comment whilst the police investigate the organisation responsible for the cyberattack and breaching data from the school., \"The cyber police are in the process of investigating and taking the cyber-attack extremely seriously., \"We have been open with our school community and are continuing to assist the police in the ongoing investigation.\", Follow BBC West Midlands on Facebook, Twitter and Instagram., Send your story ideas to: newsonline.westmidlands@bbc.co.uk Related Internet Links West Mercia Police The Bishop of Herefords Bluecoat School The BBC is not responsible for the content of external sites., Related Topics Hereford Cyber-security]\n"
          ]
        }
      ]
    },
    {
      "cell_type": "code",
      "source": [
        "len(sentences)"
      ],
      "metadata": {
        "colab": {
          "base_uri": "https://localhost:8080/"
        },
        "id": "xPGutG8EEkKQ",
        "outputId": "f954ca5c-73e7-4fd0-f473-897a6373651e"
      },
      "execution_count": 42,
      "outputs": [
        {
          "output_type": "execute_result",
          "data": {
            "text/plain": [
              "11"
            ]
          },
          "metadata": {},
          "execution_count": 42
        }
      ]
    },
    {
      "cell_type": "markdown",
      "source": [
        "### Combinations / Relationships / POS parts of speech trigger"
      ],
      "metadata": {
        "id": "uXiDGp72FA4J"
      }
    },
    {
      "cell_type": "code",
      "source": [
        "displacy.render(nlp(str(sentences[8])), jupyter=True, style='ent')"
      ],
      "metadata": {
        "colab": {
          "base_uri": "https://localhost:8080/",
          "height": 52
        },
        "id": "CEWafkwqECBD",
        "outputId": "80b27f26-4cc3-4ffc-8735-02486ed4a8b3"
      },
      "execution_count": 46,
      "outputs": [
        {
          "output_type": "display_data",
          "data": {
            "text/plain": [
              "<IPython.core.display.HTML object>"
            ],
            "text/html": [
              "<span class=\"tex2jax_ignore\"><div class=\"entities\" style=\"line-height: 2.5; direction: ltr\">Follow \n",
              "<mark class=\"entity\" style=\"background: #7aecec; padding: 0.45em 0.6em; margin: 0 0.25em; line-height: 1; border-radius: 0.35em;\">\n",
              "    BBC\n",
              "    <span style=\"font-size: 0.8em; font-weight: bold; line-height: 1; border-radius: 0.35em; vertical-align: middle; margin-left: 0.5rem\">ORG</span>\n",
              "</mark>\n",
              " West Midlands on \n",
              "<mark class=\"entity\" style=\"background: #aa9cfc; padding: 0.45em 0.6em; margin: 0 0.25em; line-height: 1; border-radius: 0.35em;\">\n",
              "    Facebook\n",
              "    <span style=\"font-size: 0.8em; font-weight: bold; line-height: 1; border-radius: 0.35em; vertical-align: middle; margin-left: 0.5rem\">PERSON</span>\n",
              "</mark>\n",
              ", \n",
              "<mark class=\"entity\" style=\"background: #bfeeb7; padding: 0.45em 0.6em; margin: 0 0.25em; line-height: 1; border-radius: 0.35em;\">\n",
              "    Twitter\n",
              "    <span style=\"font-size: 0.8em; font-weight: bold; line-height: 1; border-radius: 0.35em; vertical-align: middle; margin-left: 0.5rem\">PRODUCT</span>\n",
              "</mark>\n",
              " and \n",
              "<mark class=\"entity\" style=\"background: #7aecec; padding: 0.45em 0.6em; margin: 0 0.25em; line-height: 1; border-radius: 0.35em;\">\n",
              "    Instagram\n",
              "    <span style=\"font-size: 0.8em; font-weight: bold; line-height: 1; border-radius: 0.35em; vertical-align: middle; margin-left: 0.5rem\">ORG</span>\n",
              "</mark>\n",
              ".</div></span>"
            ]
          },
          "metadata": {}
        }
      ]
    },
    {
      "cell_type": "code",
      "source": [
        "displacy.render(nlp(str(sentences[8])), style='dep', jupyter = True, options = {'distance': 120})"
      ],
      "metadata": {
        "colab": {
          "base_uri": "https://localhost:8080/",
          "height": 419
        },
        "id": "Cl9R-9wuEfSZ",
        "outputId": "97240c5b-5963-45b4-b1cc-85bbfec4dd7c"
      },
      "execution_count": 47,
      "outputs": [
        {
          "output_type": "display_data",
          "data": {
            "text/plain": [
              "<IPython.core.display.HTML object>"
            ],
            "text/html": [
              "<span class=\"tex2jax_ignore\"><svg xmlns=\"http://www.w3.org/2000/svg\" xmlns:xlink=\"http://www.w3.org/1999/xlink\" xml:lang=\"en\" id=\"d3dd28e35fcc44aab8aa65424af6f77d-0\" class=\"displacy\" width=\"1130\" height=\"377.0\" direction=\"ltr\" style=\"max-width: none; height: 377.0px; color: #000000; background: #ffffff; font-family: Arial; direction: ltr\">\n",
              "<text class=\"displacy-token\" fill=\"currentColor\" text-anchor=\"middle\" y=\"287.0\">\n",
              "    <tspan class=\"displacy-word\" fill=\"currentColor\" x=\"50\">Follow</tspan>\n",
              "    <tspan class=\"displacy-tag\" dy=\"2em\" fill=\"currentColor\" x=\"50\">VERB</tspan>\n",
              "</text>\n",
              "\n",
              "<text class=\"displacy-token\" fill=\"currentColor\" text-anchor=\"middle\" y=\"287.0\">\n",
              "    <tspan class=\"displacy-word\" fill=\"currentColor\" x=\"170\">BBC</tspan>\n",
              "    <tspan class=\"displacy-tag\" dy=\"2em\" fill=\"currentColor\" x=\"170\">PROPN</tspan>\n",
              "</text>\n",
              "\n",
              "<text class=\"displacy-token\" fill=\"currentColor\" text-anchor=\"middle\" y=\"287.0\">\n",
              "    <tspan class=\"displacy-word\" fill=\"currentColor\" x=\"290\">West</tspan>\n",
              "    <tspan class=\"displacy-tag\" dy=\"2em\" fill=\"currentColor\" x=\"290\">PROPN</tspan>\n",
              "</text>\n",
              "\n",
              "<text class=\"displacy-token\" fill=\"currentColor\" text-anchor=\"middle\" y=\"287.0\">\n",
              "    <tspan class=\"displacy-word\" fill=\"currentColor\" x=\"410\">Midlands</tspan>\n",
              "    <tspan class=\"displacy-tag\" dy=\"2em\" fill=\"currentColor\" x=\"410\">PROPN</tspan>\n",
              "</text>\n",
              "\n",
              "<text class=\"displacy-token\" fill=\"currentColor\" text-anchor=\"middle\" y=\"287.0\">\n",
              "    <tspan class=\"displacy-word\" fill=\"currentColor\" x=\"530\">on</tspan>\n",
              "    <tspan class=\"displacy-tag\" dy=\"2em\" fill=\"currentColor\" x=\"530\">ADP</tspan>\n",
              "</text>\n",
              "\n",
              "<text class=\"displacy-token\" fill=\"currentColor\" text-anchor=\"middle\" y=\"287.0\">\n",
              "    <tspan class=\"displacy-word\" fill=\"currentColor\" x=\"650\">Facebook,</tspan>\n",
              "    <tspan class=\"displacy-tag\" dy=\"2em\" fill=\"currentColor\" x=\"650\">PROPN</tspan>\n",
              "</text>\n",
              "\n",
              "<text class=\"displacy-token\" fill=\"currentColor\" text-anchor=\"middle\" y=\"287.0\">\n",
              "    <tspan class=\"displacy-word\" fill=\"currentColor\" x=\"770\">Twitter</tspan>\n",
              "    <tspan class=\"displacy-tag\" dy=\"2em\" fill=\"currentColor\" x=\"770\">PROPN</tspan>\n",
              "</text>\n",
              "\n",
              "<text class=\"displacy-token\" fill=\"currentColor\" text-anchor=\"middle\" y=\"287.0\">\n",
              "    <tspan class=\"displacy-word\" fill=\"currentColor\" x=\"890\">and</tspan>\n",
              "    <tspan class=\"displacy-tag\" dy=\"2em\" fill=\"currentColor\" x=\"890\">CCONJ</tspan>\n",
              "</text>\n",
              "\n",
              "<text class=\"displacy-token\" fill=\"currentColor\" text-anchor=\"middle\" y=\"287.0\">\n",
              "    <tspan class=\"displacy-word\" fill=\"currentColor\" x=\"1010\">Instagram.</tspan>\n",
              "    <tspan class=\"displacy-tag\" dy=\"2em\" fill=\"currentColor\" x=\"1010\">PROPN</tspan>\n",
              "</text>\n",
              "\n",
              "<g class=\"displacy-arrow\">\n",
              "    <path class=\"displacy-arc\" id=\"arrow-d3dd28e35fcc44aab8aa65424af6f77d-0-0\" stroke-width=\"2px\" d=\"M190,242.0 C190,122.0 400.0,122.0 400.0,242.0\" fill=\"none\" stroke=\"currentColor\"/>\n",
              "    <text dy=\"1.25em\" style=\"font-size: 0.8em; letter-spacing: 1px\">\n",
              "        <textPath xlink:href=\"#arrow-d3dd28e35fcc44aab8aa65424af6f77d-0-0\" class=\"displacy-label\" startOffset=\"50%\" side=\"left\" fill=\"currentColor\" text-anchor=\"middle\">compound</textPath>\n",
              "    </text>\n",
              "    <path class=\"displacy-arrowhead\" d=\"M190,244.0 L182,232.0 198,232.0\" fill=\"currentColor\"/>\n",
              "</g>\n",
              "\n",
              "<g class=\"displacy-arrow\">\n",
              "    <path class=\"displacy-arc\" id=\"arrow-d3dd28e35fcc44aab8aa65424af6f77d-0-1\" stroke-width=\"2px\" d=\"M310,242.0 C310,182.0 395.0,182.0 395.0,242.0\" fill=\"none\" stroke=\"currentColor\"/>\n",
              "    <text dy=\"1.25em\" style=\"font-size: 0.8em; letter-spacing: 1px\">\n",
              "        <textPath xlink:href=\"#arrow-d3dd28e35fcc44aab8aa65424af6f77d-0-1\" class=\"displacy-label\" startOffset=\"50%\" side=\"left\" fill=\"currentColor\" text-anchor=\"middle\">compound</textPath>\n",
              "    </text>\n",
              "    <path class=\"displacy-arrowhead\" d=\"M310,244.0 L302,232.0 318,232.0\" fill=\"currentColor\"/>\n",
              "</g>\n",
              "\n",
              "<g class=\"displacy-arrow\">\n",
              "    <path class=\"displacy-arc\" id=\"arrow-d3dd28e35fcc44aab8aa65424af6f77d-0-2\" stroke-width=\"2px\" d=\"M70,242.0 C70,62.0 405.0,62.0 405.0,242.0\" fill=\"none\" stroke=\"currentColor\"/>\n",
              "    <text dy=\"1.25em\" style=\"font-size: 0.8em; letter-spacing: 1px\">\n",
              "        <textPath xlink:href=\"#arrow-d3dd28e35fcc44aab8aa65424af6f77d-0-2\" class=\"displacy-label\" startOffset=\"50%\" side=\"left\" fill=\"currentColor\" text-anchor=\"middle\">dobj</textPath>\n",
              "    </text>\n",
              "    <path class=\"displacy-arrowhead\" d=\"M405.0,244.0 L413.0,232.0 397.0,232.0\" fill=\"currentColor\"/>\n",
              "</g>\n",
              "\n",
              "<g class=\"displacy-arrow\">\n",
              "    <path class=\"displacy-arc\" id=\"arrow-d3dd28e35fcc44aab8aa65424af6f77d-0-3\" stroke-width=\"2px\" d=\"M70,242.0 C70,2.0 530.0,2.0 530.0,242.0\" fill=\"none\" stroke=\"currentColor\"/>\n",
              "    <text dy=\"1.25em\" style=\"font-size: 0.8em; letter-spacing: 1px\">\n",
              "        <textPath xlink:href=\"#arrow-d3dd28e35fcc44aab8aa65424af6f77d-0-3\" class=\"displacy-label\" startOffset=\"50%\" side=\"left\" fill=\"currentColor\" text-anchor=\"middle\">prep</textPath>\n",
              "    </text>\n",
              "    <path class=\"displacy-arrowhead\" d=\"M530.0,244.0 L538.0,232.0 522.0,232.0\" fill=\"currentColor\"/>\n",
              "</g>\n",
              "\n",
              "<g class=\"displacy-arrow\">\n",
              "    <path class=\"displacy-arc\" id=\"arrow-d3dd28e35fcc44aab8aa65424af6f77d-0-4\" stroke-width=\"2px\" d=\"M550,242.0 C550,182.0 635.0,182.0 635.0,242.0\" fill=\"none\" stroke=\"currentColor\"/>\n",
              "    <text dy=\"1.25em\" style=\"font-size: 0.8em; letter-spacing: 1px\">\n",
              "        <textPath xlink:href=\"#arrow-d3dd28e35fcc44aab8aa65424af6f77d-0-4\" class=\"displacy-label\" startOffset=\"50%\" side=\"left\" fill=\"currentColor\" text-anchor=\"middle\">pobj</textPath>\n",
              "    </text>\n",
              "    <path class=\"displacy-arrowhead\" d=\"M635.0,244.0 L643.0,232.0 627.0,232.0\" fill=\"currentColor\"/>\n",
              "</g>\n",
              "\n",
              "<g class=\"displacy-arrow\">\n",
              "    <path class=\"displacy-arc\" id=\"arrow-d3dd28e35fcc44aab8aa65424af6f77d-0-5\" stroke-width=\"2px\" d=\"M670,242.0 C670,182.0 755.0,182.0 755.0,242.0\" fill=\"none\" stroke=\"currentColor\"/>\n",
              "    <text dy=\"1.25em\" style=\"font-size: 0.8em; letter-spacing: 1px\">\n",
              "        <textPath xlink:href=\"#arrow-d3dd28e35fcc44aab8aa65424af6f77d-0-5\" class=\"displacy-label\" startOffset=\"50%\" side=\"left\" fill=\"currentColor\" text-anchor=\"middle\">conj</textPath>\n",
              "    </text>\n",
              "    <path class=\"displacy-arrowhead\" d=\"M755.0,244.0 L763.0,232.0 747.0,232.0\" fill=\"currentColor\"/>\n",
              "</g>\n",
              "\n",
              "<g class=\"displacy-arrow\">\n",
              "    <path class=\"displacy-arc\" id=\"arrow-d3dd28e35fcc44aab8aa65424af6f77d-0-6\" stroke-width=\"2px\" d=\"M790,242.0 C790,182.0 875.0,182.0 875.0,242.0\" fill=\"none\" stroke=\"currentColor\"/>\n",
              "    <text dy=\"1.25em\" style=\"font-size: 0.8em; letter-spacing: 1px\">\n",
              "        <textPath xlink:href=\"#arrow-d3dd28e35fcc44aab8aa65424af6f77d-0-6\" class=\"displacy-label\" startOffset=\"50%\" side=\"left\" fill=\"currentColor\" text-anchor=\"middle\">cc</textPath>\n",
              "    </text>\n",
              "    <path class=\"displacy-arrowhead\" d=\"M875.0,244.0 L883.0,232.0 867.0,232.0\" fill=\"currentColor\"/>\n",
              "</g>\n",
              "\n",
              "<g class=\"displacy-arrow\">\n",
              "    <path class=\"displacy-arc\" id=\"arrow-d3dd28e35fcc44aab8aa65424af6f77d-0-7\" stroke-width=\"2px\" d=\"M790,242.0 C790,122.0 1000.0,122.0 1000.0,242.0\" fill=\"none\" stroke=\"currentColor\"/>\n",
              "    <text dy=\"1.25em\" style=\"font-size: 0.8em; letter-spacing: 1px\">\n",
              "        <textPath xlink:href=\"#arrow-d3dd28e35fcc44aab8aa65424af6f77d-0-7\" class=\"displacy-label\" startOffset=\"50%\" side=\"left\" fill=\"currentColor\" text-anchor=\"middle\">conj</textPath>\n",
              "    </text>\n",
              "    <path class=\"displacy-arrowhead\" d=\"M1000.0,244.0 L1008.0,232.0 992.0,232.0\" fill=\"currentColor\"/>\n",
              "</g>\n",
              "</svg></span>"
            ]
          },
          "metadata": {}
        }
      ]
    },
    {
      "cell_type": "code",
      "source": [],
      "metadata": {
        "id": "65thiCvAE9Lw"
      },
      "execution_count": null,
      "outputs": []
    }
  ],
  "metadata": {
    "colab": {
      "provenance": []
    },
    "kernelspec": {
      "display_name": "Python 3",
      "name": "python3"
    },
    "accelerator": "GPU",
    "gpuClass": "standard"
  },
  "nbformat": 4,
  "nbformat_minor": 0
}